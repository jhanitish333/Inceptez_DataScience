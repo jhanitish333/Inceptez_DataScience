{
  "nbformat": 4,
  "nbformat_minor": 0,
  "metadata": {
    "colab": {
      "provenance": []
    },
    "kernelspec": {
      "name": "python3",
      "display_name": "Python 3"
    },
    "language_info": {
      "name": "python"
    }
  },
  "cells": [
    {
      "cell_type": "code",
      "execution_count": null,
      "metadata": {
        "id": "cgTenUZgGaZQ"
      },
      "outputs": [],
      "source": []
    },
    {
      "cell_type": "code",
      "source": [
        "x=0\n",
        "if (x<0):\n",
        "  print (\"x is negative\")\n",
        "elif (x==0):\n",
        "  print(\"x is 0\")\n",
        "else:\n",
        "  print(\"x is positive\")"
      ],
      "metadata": {
        "colab": {
          "base_uri": "https://localhost:8080/"
        },
        "id": "3jgCS9JcJO2P",
        "outputId": "5cfd680d-efb6-4871-fefe-67fc5254bcfd"
      },
      "execution_count": 6,
      "outputs": [
        {
          "output_type": "stream",
          "name": "stdout",
          "text": [
            "x is 0\n"
          ]
        }
      ]
    },
    {
      "cell_type": "code",
      "source": [
        "marks = int(input(\"Enter Student's marks: \"))\n",
        "#marks = int(input())\n",
        "print(marks)\n",
        "if marks>=90:\n",
        "  print(\"Grade is S\")\n",
        "elif marks<90 and marks>=70:\n",
        "  print(\"Grade is A\")\n",
        "elif marks<70 and marks>=50:\n",
        "  print(\"Grade is B\")\n",
        "elif marks<50 and marks>=40:\n",
        "  print(\"Grade is C\")\n",
        "else:\n",
        "  print(\"Grade is E\")"
      ],
      "metadata": {
        "colab": {
          "base_uri": "https://localhost:8080/"
        },
        "id": "HNb_xtkkvPRt",
        "outputId": "841a408c-7ed9-469e-8c42-8fb81bc5daab"
      },
      "execution_count": 17,
      "outputs": [
        {
          "output_type": "stream",
          "name": "stdout",
          "text": [
            "Enter Student's marks: 49\n",
            "49\n",
            "Grade is C\n"
          ]
        }
      ]
    },
    {
      "cell_type": "code",
      "source": [
        "subjectmarks = [45,78,93,45,56]"
      ],
      "metadata": {
        "id": "ABmiUBIpDgWW"
      },
      "execution_count": 19,
      "outputs": []
    },
    {
      "cell_type": "code",
      "source": [
        "for marks in subjectmarks:\n",
        "  if marks>=90:\n",
        "    print(\"Grade is S\")\n",
        "  elif marks<90 and marks>=70:\n",
        "    print(\"Grade is A\")\n",
        "  elif marks<70 and marks>=50:\n",
        "    print(\"Grade is B\")\n",
        "  elif marks<50 and marks>=40:\n",
        "    print(\"Grade is C\")\n",
        "  else:\n",
        "    print(\"Grade is E\")"
      ],
      "metadata": {
        "colab": {
          "base_uri": "https://localhost:8080/"
        },
        "id": "jnQCCnLNDv1B",
        "outputId": "41ed5ee8-f191-41bd-e4a0-4c2db990577a"
      },
      "execution_count": 20,
      "outputs": [
        {
          "output_type": "stream",
          "name": "stdout",
          "text": [
            "Grade is C\n",
            "Grade is A\n",
            "Grade is S\n",
            "Grade is C\n",
            "Grade is B\n"
          ]
        }
      ]
    },
    {
      "cell_type": "code",
      "source": [
        "str1 = \"Namasya\"\n",
        "for i in str1:\n",
        "  print(i)"
      ],
      "metadata": {
        "colab": {
          "base_uri": "https://localhost:8080/"
        },
        "id": "H8mUZq-TFvX-",
        "outputId": "b8994206-aa76-40ec-bdbc-2e24e7acde7f"
      },
      "execution_count": 21,
      "outputs": [
        {
          "output_type": "stream",
          "name": "stdout",
          "text": [
            "N\n",
            "a\n",
            "m\n",
            "a\n",
            "s\n",
            "y\n",
            "a\n"
          ]
        }
      ]
    },
    {
      "cell_type": "code",
      "source": [
        "str2 = \"NAmasya\"\n",
        "str2 = \"aeiou\"\n",
        "count=0\n",
        "for i in str2:\n",
        "  if i.lower() in dict1:\n",
        "    count = count + 1\n",
        "\n",
        "print(count)"
      ],
      "metadata": {
        "colab": {
          "base_uri": "https://localhost:8080/"
        },
        "id": "i6sifFzeGFos",
        "outputId": "469b4efb-444d-49a2-ae96-0c33bf7acfb0"
      },
      "execution_count": 25,
      "outputs": [
        {
          "output_type": "stream",
          "name": "stdout",
          "text": [
            "5\n"
          ]
        }
      ]
    },
    {
      "cell_type": "code",
      "source": [
        "n=0\n",
        "while(n<9):\n",
        "  print(n)\n",
        "  n = n+1"
      ],
      "metadata": {
        "colab": {
          "base_uri": "https://localhost:8080/"
        },
        "id": "SeaL-oedZ8QY",
        "outputId": "74525056-1179-4ed9-d5eb-78fb0e85e547"
      },
      "execution_count": 26,
      "outputs": [
        {
          "output_type": "stream",
          "name": "stdout",
          "text": [
            "0\n",
            "1\n",
            "2\n",
            "3\n",
            "4\n",
            "5\n",
            "6\n",
            "7\n",
            "8\n"
          ]
        }
      ]
    },
    {
      "cell_type": "code",
      "source": [
        "#Bubble sort\n",
        "list1 = [6,8,4,7,89,45,67,3]\n",
        "for i in range(len(list1)):\n",
        "  for j in range(len(list1)-1):\n",
        "    if list1[j] > list1[j+1]:\n",
        "      list1[j], list1[j+1] = list1[j+1], list1[j]\n",
        "\n",
        "print(list1)"
      ],
      "metadata": {
        "colab": {
          "base_uri": "https://localhost:8080/"
        },
        "id": "shv01UFGeyV0",
        "outputId": "1c4898d0-06f7-4600-b189-c16c0fac3811"
      },
      "execution_count": 29,
      "outputs": [
        {
          "output_type": "stream",
          "name": "stdout",
          "text": [
            "[3, 4, 6, 7, 8, 45, 67, 89]\n"
          ]
        }
      ]
    },
    {
      "cell_type": "code",
      "source": [
        "a = [6,8,4,7,89,45,67,3]\n",
        "a.sort()"
      ],
      "metadata": {
        "id": "F3CimnJhgqGG"
      },
      "execution_count": 30,
      "outputs": []
    },
    {
      "cell_type": "code",
      "source": [
        "a = [6,8,4,7,89,45,67,3]\n",
        "len(a)"
      ],
      "metadata": {
        "colab": {
          "base_uri": "https://localhost:8080/"
        },
        "id": "IGv12FSNg0D0",
        "outputId": "30794d42-3094-4b92-ec69-4c492bd9338f"
      },
      "execution_count": 2,
      "outputs": [
        {
          "output_type": "execute_result",
          "data": {
            "text/plain": [
              "8"
            ]
          },
          "metadata": {},
          "execution_count": 2
        }
      ]
    },
    {
      "cell_type": "code",
      "source": [
        "import numpy as np\n",
        "arr = np.random.randint(-9, 9, size=(6, 6))\n",
        "print(\"\\nArray with random integers:\")\n",
        "print(arr)\n",
        "height = len(arr)\n",
        "width = len(arr[0])\n",
        "print(height)\n",
        "print(width)\n",
        "hourglass = []\n",
        "for i in range(width-2):\n",
        "  for j in range (height-2):\n",
        "    sum = arr[i][j] + arr[i][j+1] + arr[i][j+2] + arr[i+1][j+1] + arr[i+2][j] + arr[i+2][j+1] + arr[i+2][j+2]\n",
        "    #print(sum)\n",
        "    hourglass.append(int(sum))\n",
        "print(hourglass)\n",
        "print(max(hourglass))"
      ],
      "metadata": {
        "colab": {
          "base_uri": "https://localhost:8080/"
        },
        "id": "8BSDGeT7Wt7v",
        "outputId": "f6dc0195-6bc8-4bae-ac75-586d7c6c9e2b"
      },
      "execution_count": 17,
      "outputs": [
        {
          "output_type": "stream",
          "name": "stdout",
          "text": [
            "\n",
            "Array with random integers:\n",
            "[[ 2 -6 -8 -6 -4  0]\n",
            " [ 8  6  5  6 -6 -5]\n",
            " [ 0 -8  1  5 -4 -6]\n",
            " [ 3 -3 -9  3  6 -9]\n",
            " [ 6  8 -4  1 -8 -5]\n",
            " [ 5  8 -1 -7 -8 -1]]\n",
            "6\n",
            "6\n",
            "[-13, -17, -10, -21, 2, 9, 10, -9, 0, -6, -6, -11, 11, -13, -15, -24]\n",
            "11\n"
          ]
        }
      ]
    },
    {
      "cell_type": "code",
      "source": [],
      "metadata": {
        "id": "t6OIQwYVbxoL"
      },
      "execution_count": null,
      "outputs": []
    }
  ]
}